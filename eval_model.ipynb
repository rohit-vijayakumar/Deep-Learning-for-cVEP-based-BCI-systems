{
 "cells": [
  {
   "cell_type": "code",
   "execution_count": 1,
   "id": "9d5a5066",
   "metadata": {},
   "outputs": [],
   "source": [
    "import os\n",
    "import glob\n",
    "import copy\n",
    "import time\n",
    "import pickle\n",
    "import numpy as np\n",
    "import scipy.io\n",
    "import pandas as pd\n",
    "import seaborn as sns\n",
    "import matplotlib.pyplot as plt\n",
    "from scipy import signal\n",
    "#from data_loader import*\n",
    "from data_preprocessing import*\n",
    "\n",
    "from sklearn.model_selection import train_test_split\n",
    "from sklearn.metrics import accuracy_score\n",
    "from sklearn.preprocessing import StandardScaler\n",
    "import tensorflow as tf\n",
    "from keras.utils.np_utils import to_categorical\n",
    "from tensorflow.keras.models import Sequential, Model\n",
    "from tensorflow.keras.layers import *\n",
    "from tensorflow.keras.regularizers import l2,l1\n",
    "import tensorflow.keras.backend as K\n",
    "from tensorflow.keras.callbacks import Callback\n",
    "from tensorflow.keras.callbacks import ModelCheckpoint, EarlyStopping"
   ]
  },
  {
   "cell_type": "code",
   "execution_count": 2,
   "id": "3e155eb4",
   "metadata": {},
   "outputs": [],
   "source": [
    "model = 'multi_objective_cnn'\n",
    "dataset = '256_channel_cVEP'\n",
    "mode = 'loso_subject'\n",
    "with open('./results/{}/{}/{}/{}_{}.pickle'.format(model,dataset,mode,model,mode), 'rb') as handle:\n",
    "        results = pickle.load(handle)"
   ]
  },
  {
   "cell_type": "code",
   "execution_count": 17,
   "id": "903b3a57",
   "metadata": {},
   "outputs": [],
   "source": [
    "group = []\n",
    "category_accuracy = []\n",
    "sequence_accuracy = []\n",
    "ITR = []\n",
    "for i in results.keys():\n",
    "    results_cv = results[i] \n",
    "    for j in range(1,len(results_cv)-1):\n",
    "        group.append(i)\n",
    "        category_accuracy.append(float(results_cv[j]['category_accuracy']))\n",
    "        sequence_accuracy.append(float(results_cv[j]['sequence_accuracy']))\n",
    "        ITR.append(float(results_cv[j]['ITR']))"
   ]
  },
  {
   "cell_type": "code",
   "execution_count": 19,
   "id": "f8e74ea4",
   "metadata": {},
   "outputs": [
    {
     "data": {
      "text/plain": [
       "[2.3255813866853714,\n",
       " 4.651162773370743,\n",
       " 3.488372266292572,\n",
       " 4.651162773370743,\n",
       " 3.488372266292572,\n",
       " 4.651162773370743,\n",
       " 5.813953652977943,\n",
       " 2.3255813866853714,\n",
       " 2.3255813866853714,\n",
       " 2.3255813866853714,\n",
       " 3.488372266292572,\n",
       " 2.3255813866853714,\n",
       " 4.651162773370743,\n",
       " 1.1627906933426857,\n",
       " 2.3255813866853714,\n",
       " 0.0,\n",
       " 0.0,\n",
       " 2.3255813866853714,\n",
       " 1.1627906933426857,\n",
       " 2.3255813866853714,\n",
       " 1.1627906933426857,\n",
       " 3.488372266292572,\n",
       " 0.0,\n",
       " 0.0,\n",
       " 0.0,\n",
       " 1.1627906933426857,\n",
       " 0.0,\n",
       " 2.3255813866853714,\n",
       " 2.3255813866853714,\n",
       " 2.3255813866853714,\n",
       " 0.0,\n",
       " 1.1627906933426857,\n",
       " 0.0,\n",
       " 2.3255813866853714,\n",
       " 1.1627906933426857,\n",
       " 2.3255813866853714,\n",
       " 2.3255813866853714,\n",
       " 1.1627906933426857,\n",
       " 2.3255813866853714,\n",
       " 2.3255813866853714,\n",
       " 3.488372266292572,\n",
       " 0.0,\n",
       " 3.488372266292572,\n",
       " 2.3255813866853714,\n",
       " 3.488372266292572,\n",
       " 4.651162773370743,\n",
       " 1.1627906933426857,\n",
       " 1.1627906933426857,\n",
       " 3.488372266292572,\n",
       " 3.488372266292572,\n",
       " 2.3255813866853714,\n",
       " 2.3255813866853714,\n",
       " 3.488372266292572,\n",
       " 1.1627906933426857,\n",
       " 0.0,\n",
       " 1.1627906933426857,\n",
       " 2.3255813866853714,\n",
       " 3.488372266292572,\n",
       " 1.1627906933426857,\n",
       " 4.651162773370743,\n",
       " 2.3255813866853714,\n",
       " 2.3255813866853714,\n",
       " 0.0,\n",
       " 3.488372266292572,\n",
       " 2.3255813866853714,\n",
       " 2.3255813866853714,\n",
       " 3.488372266292572,\n",
       " 2.3255813866853714,\n",
       " 1.1627906933426857,\n",
       " 5.813953652977943]"
      ]
     },
     "execution_count": 19,
     "metadata": {},
     "output_type": "execute_result"
    }
   ],
   "source": [
    "sequence_accuracy"
   ]
  },
  {
   "cell_type": "code",
   "execution_count": 18,
   "id": "7e081ef8",
   "metadata": {},
   "outputs": [
    {
     "data": {
      "image/png": "[encoded data removed]",
      "text/plain": [
       "<Figure size 1440x720 with 1 Axes>"
      ]
     },
     "metadata": {},
     "output_type": "display_data"
    }
   ],
   "source": [
    "df = pd.DataFrame({'Subjects':group,'sequence_accuracy':sequence_accuracy,'category_accuracy':category_accuracy})\n",
    "df = df[['Subjects','sequence_accuracy','category_accuracy']]\n",
    "\n",
    "sns.set(rc={'figure.figsize':(20,10)})\n",
    "dd=pd.melt(df,id_vars=['Subjects'],value_vars=['sequence_accuracy','category_accuracy'],var_name='Models')\n",
    "ax = sns.boxplot(x='Subjects',y='value',data=dd,hue='Models')\n",
    "ax.set_title('Within-subject accuracy')\n",
    "ax.set(ylabel='Accuracy')\n",
    "plt.show()"
   ]
  },
  {
   "cell_type": "code",
   "execution_count": null,
   "id": "ce8fdd84",
   "metadata": {},
   "outputs": [],
   "source": [
    "group = []\n",
    "category_accuracy = []\n",
    "sequence_accuracy = []\n",
    "ITR = []\n",
    "for i in results_cnn_ts.keys():\n",
    "    results_cv = results[i]\n",
    "    \n",
    "    for j in range(1,len(results_cv)-1):\n",
    "        group.append(i)\n",
    "        category_accuracy.append(float(results_cv[j]['category_accuracy']))\n",
    "        sequence_accuracy.append(float(results_cv[j]['sequence_accuracy']))\n",
    "        ITR.append(float(results_cv[j]['ITR']))\n",
    "\n",
    "df = pd.DataFrame({'Subjects':group,'cnn_ts':cnn_ts_list,'cnn':cnn_list})\n",
    "df = df[['Subjects','cnn_ts','cnn']]\n",
    "\n",
    "sns.set(rc={'figure.figsize':(20,10)})\n",
    "dd=pd.melt(df,id_vars=['Subjects'],value_vars=['cnn_ts','cnn'],var_name='Models')\n",
    "ax = sns.boxplot(x='Subjects',y='value',data=dd,hue='Models')\n",
    "ax.set_title('Within-subject accuracy')\n",
    "ax.set(ylabel='Accuracy')\n",
    "plt.show()"
   ]
  },
  {
   "cell_type": "code",
   "execution_count": 8,
   "id": "91bacaa9",
   "metadata": {},
   "outputs": [
    {
     "data": {
      "text/plain": [
       "dict_keys(['category_accuracy', 'sequence_accuracy', 'ITR'])"
      ]
     },
     "execution_count": 8,
     "metadata": {},
     "output_type": "execute_result"
    }
   ],
   "source": [
    "results[1][1].keys()"
   ]
  },
  {
   "cell_type": "code",
   "execution_count": null,
   "id": "64f8e997",
   "metadata": {},
   "outputs": [],
   "source": []
  }
 ],
 "metadata": {
  "kernelspec": {
   "display_name": "Python 3 (ipykernel)",
   "language": "python",
   "name": "python3"
  },
  "language_info": {
   "codemirror_mode": {
    "name": "ipython",
    "version": 3
   },
   "file_extension": ".py",
   "mimetype": "text/x-python",
   "name": "python",
   "nbconvert_exporter": "python",
   "pygments_lexer": "ipython3",
   "version": "3.9.7"
  }
 },
 "nbformat": 4,
 "nbformat_minor": 5
}
